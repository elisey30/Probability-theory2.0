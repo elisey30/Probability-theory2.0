{
 "cells": [
  {
   "cell_type": "code",
   "execution_count": 1,
   "metadata": {},
   "outputs": [],
   "source": [
    "from scipy import stats"
   ]
  },
  {
   "cell_type": "code",
   "execution_count": 7,
   "metadata": {},
   "outputs": [
    {
     "data": {
      "text/plain": [
       "0.6056153472305655"
      ]
     },
     "execution_count": 7,
     "metadata": {},
     "output_type": "execute_result"
    }
   ],
   "source": [
    "m1 = 17\n",
    "m2 = 9\n",
    "n1 = 32\n",
    "n2 = 22\n",
    "p1 = m1 / n1\n",
    "p2 = m2 / n2\n",
    "delta = p1 - p2 # нашли разность долей\n",
    "z = stats.norm.ppf(0.975) # (97,5% == 0.975) t для критерия Стьюдента  \n",
    "p = (m1 + m2) / (n1+n2)  # Общая \n",
    "se = (p * (1-p) * (1/n1 + 1 / n2)) ** 0.5 # Стандартное отклонение\n",
    "q = (delta - z * se), (delta + z * se) # границы разности \n",
    "q\n",
    "z_nabl = (delta - 1/2 * (1/n1 + 1 / n2)) / se # находим z наблюдаемое \n",
    "z_nabl"
   ]
  },
  {
   "cell_type": "code",
   "execution_count": 9,
   "metadata": {},
   "outputs": [
    {
     "data": {
      "text/plain": [
       "((1.8114366123376808, 2.188563387662319),\n",
       " (1.774884346453975, 2.225115653546025))"
      ]
     },
     "execution_count": 9,
     "metadata": {},
     "output_type": "execute_result"
    }
   ],
   "source": [
    "x = 2\n",
    "n = 151\n",
    "std_1 = 1.4\n",
    "t_table_1 = stats.t.ppf(0.95, n - 1) # критерий для 90% интервала \n",
    "t_table_2 = stats.t.ppf(0.975, n -1 ) # критерий для 90% интервала \n",
    "pr1 = (x - t_table_1 * std_1 / n ** 0.5, x + t_table_1 * std_1 / n ** 0.5) \n",
    "pr2 = (x - t_table_2 * std_1 / n ** 0.5, x + t_table_2 * std_1 / n ** 0.5)\n",
    "pr1,pr2"
   ]
  }
 ],
 "metadata": {
  "kernelspec": {
   "display_name": "Python 3",
   "language": "python",
   "name": "python3"
  },
  "language_info": {
   "codemirror_mode": {
    "name": "ipython",
    "version": 3
   },
   "file_extension": ".py",
   "mimetype": "text/x-python",
   "name": "python",
   "nbconvert_exporter": "python",
   "pygments_lexer": "ipython3",
   "version": "3.11.4"
  }
 },
 "nbformat": 4,
 "nbformat_minor": 2
}
