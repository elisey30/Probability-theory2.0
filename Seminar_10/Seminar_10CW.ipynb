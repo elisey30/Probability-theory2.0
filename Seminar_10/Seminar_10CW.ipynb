{
 "cells": [
  {
   "cell_type": "markdown",
   "metadata": {},
   "source": [
    "Даны веса пациентов до и после диеты. Веса распределены нормально\n",
    "\n",
    "До 92.8 , 95.6, 92.1, 100.6, 96.2, 92.1, 96.7, 97.6, 97.0, 93.9 \n",
    "После 87.1, 84.1, 81.3, 77.0, 86.0, 82.9, 83.0, 85.5, 85.2, 84.6\n",
    "\n",
    "Проверить гипотезу о, том что средний вес пациентов после диеты статистически меньше веса до диеты\n",
    "1) Используйте alternative='greater‘\n",
    "2) alternative=‘less‘\n",
    "3) 'two-sided'\n",
    "Объясните полученные результаты p-value для каждого случая"
   ]
  },
  {
   "cell_type": "code",
   "execution_count": 4,
   "metadata": {},
   "outputs": [
    {
     "data": {
      "text/plain": [
       "(95.46000000000001, 83.67)"
      ]
     },
     "execution_count": 4,
     "metadata": {},
     "output_type": "execute_result"
    }
   ],
   "source": [
    "import numpy as np\n",
    "import pandas as pd\n",
    "from scipy import stats\n",
    "import matplotlib.pyplot as plt\n",
    "\n",
    "do = np.array([92.8 , 95.6, 92.1, 100.6, 96.2, 92.1, 96.7, 97.6, 97.0, 93.9 ])\n",
    "posle = ([87.1, 84.1, 81.3, 77.0, 86.0, 82.9, 83.0, 85.5, 85.2, 84.6])\n",
    "\n",
    "len(do),len(posle)\n",
    "\n",
    "do_mean = np.mean(do)\n",
    "posle_mean = np.mean(posle)\n",
    "do_mean, posle_mean\n"
   ]
  },
  {
   "cell_type": "code",
   "execution_count": 5,
   "metadata": {},
   "outputs": [],
   "source": [
    "std_do = np.std(do, ddof=1) # Находим средеквадротичное отклонинее сщ степенью свободы 1\n",
    "std_posle = np.std(posle, ddof=1)"
   ]
  },
  {
   "cell_type": "code",
   "execution_count": 6,
   "metadata": {},
   "outputs": [
    {
     "data": {
      "text/plain": [
       "TtestResult(statistic=9.364978467151436, pvalue=2.4273144030688898e-08, df=18.0)"
      ]
     },
     "execution_count": 6,
     "metadata": {},
     "output_type": "execute_result"
    }
   ],
   "source": [
    "stats.ttest_ind(do,posle)"
   ]
  }
 ],
 "metadata": {
  "kernelspec": {
   "display_name": "Python 3",
   "language": "python",
   "name": "python3"
  },
  "language_info": {
   "codemirror_mode": {
    "name": "ipython",
    "version": 3
   },
   "file_extension": ".py",
   "mimetype": "text/x-python",
   "name": "python",
   "nbconvert_exporter": "python",
   "pygments_lexer": "ipython3",
   "version": "3.11.4"
  }
 },
 "nbformat": 4,
 "nbformat_minor": 2
}
