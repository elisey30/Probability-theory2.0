{
 "cells": [
  {
   "cell_type": "code",
   "execution_count": 2,
   "metadata": {},
   "outputs": [
    {
     "data": {
      "text/plain": [
       "MannwhitneyuResult(statistic=5.0, pvalue=1.0)"
      ]
     },
     "execution_count": 2,
     "metadata": {},
     "output_type": "execute_result"
    }
   ],
   "source": [
    "# Непараметрические критерии. Манна-Уитни применяем при сравнении двух независимых выборок \n",
    "\n",
    "import numpy as np\n",
    "import scipy.stats as stats\n",
    "\n",
    "x1 = np.array([47,90,75])\n",
    "x2 = np.array([58,60,77])\n",
    "\n",
    "stats.mannwhitneyu(x1, x2) # Тест Манна-Уитни\n"
   ]
  },
  {
   "cell_type": "code",
   "execution_count": 9,
   "metadata": {},
   "outputs": [
    {
     "data": {
      "text/plain": [
       "WilcoxonResult(statistic=3.0, pvalue=0.009765625)"
      ]
     },
     "execution_count": 9,
     "metadata": {},
     "output_type": "execute_result"
    }
   ],
   "source": [
    "# Критерий Уилкоксона применяем при сравнении двух зависимых выборок \n",
    "# Задача Критерий Уилкоксона\n",
    "# Иследуется влияние некоторой диеты на вес пациентов. в иследовании участвуют 10 пациентов.\n",
    "\n",
    "import numpy as np\n",
    "import scipy.stats as stats\n",
    "\n",
    "x1 = np.array([70, 74, 74.5, 79, 85, 93, 94, 98, 106.5, 107])\n",
    "x2 = np.array([64, 76.5, 67, 73.5, 89, 85, 89.5, 91, 98, 100.5])\n",
    "\n",
    "stats.wilcoxon(x1, x2) # Тест Уилкоксона  \n",
    "\n"
   ]
  },
  {
   "cell_type": "code",
   "execution_count": 10,
   "metadata": {},
   "outputs": [
    {
     "data": {
      "text/plain": [
       "KruskalResult(statistic=15.2639455782313, pvalue=0.0004847036963349822)"
      ]
     },
     "execution_count": 10,
     "metadata": {},
     "output_type": "execute_result"
    }
   ],
   "source": [
    "# Тест Крускала - Уоллиса применяем при множественных сравнений независимых выборок \n",
    "\n",
    "import numpy as np\n",
    "import scipy.stats as stats\n",
    "\n",
    "gr1 = np.array([70, 50, 64, 61, 67, 73])\n",
    "gr2 = np.array([80, 78, 90, 68, 74, 65, 85])\n",
    "gr3 = np.array([141, 142, 140, 152, 161, 163, 155])\n",
    "\n",
    "stats.kruskal(gr1, gr2, gr3) # Тест Крускала\n",
    "\n",
    "# Вывод: Различия между выборками з/п статестически значимые на уровне статистической значимости а(альфа) = 0.05.\n",
    "# Проффесия влияет на на уровень заработной платы.\n",
    "# a > pvalue"
   ]
  },
  {
   "cell_type": "code",
   "execution_count": 11,
   "metadata": {},
   "outputs": [
    {
     "data": {
      "text/plain": [
       "FriedmanchisquareResult(statistic=5.200000000000003, pvalue=0.0742735782143338)"
      ]
     },
     "execution_count": 11,
     "metadata": {},
     "output_type": "execute_result"
    }
   ],
   "source": [
    "# Критерий фридмана применяем при множественных сравнений анализ повторных изменений\n",
    "\n",
    "\n",
    "import numpy as np\n",
    "import scipy.stats as stats\n",
    "\n",
    "before = np.array([123, 135, 119, 109, 145 ])\n",
    "diet_1 = np.array([126, 144, 117, 156, 170])\n",
    "diet_2 = np.array([141, 150, 164, 147, 169])\n",
    "\n",
    "stats.friedmanchisquare(before, diet_1, diet_2) # Тест Фридмана\n",
    "\n",
    "# Вывод: Статистических значимых различий не обнаруженно на уровне значимости а = 0.05\n",
    "# а < pvalue, 0.05 < 0.07, Принимаем нулевую гипотизу \n"
   ]
  }
 ],
 "metadata": {
  "kernelspec": {
   "display_name": "Python 3",
   "language": "python",
   "name": "python3"
  },
  "language_info": {
   "codemirror_mode": {
    "name": "ipython",
    "version": 3
   },
   "file_extension": ".py",
   "mimetype": "text/x-python",
   "name": "python",
   "nbconvert_exporter": "python",
   "pygments_lexer": "ipython3",
   "version": "3.11.4"
  }
 },
 "nbformat": 4,
 "nbformat_minor": 2
}
