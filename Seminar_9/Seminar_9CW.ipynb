{
 "cells": [
  {
   "cell_type": "code",
   "execution_count": 1,
   "metadata": {},
   "outputs": [
    {
     "data": {
      "text/plain": [
       "0.03874584717607981"
      ]
     },
     "execution_count": 1,
     "metadata": {},
     "output_type": "execute_result"
    }
   ],
   "source": [
    "import numpy as np\n",
    "\n",
    "s = np.array([27,37, 42, 48, 57, 56, 77,80])\n",
    "p = np.array([1.2, 1.6, 1.8, 1.8, 2.5, 2.6, 3, 3.3])\n",
    "\n",
    "n = 8\n",
    "\n",
    "b1 = (n * np.sum(p * s) - np.sum(s) * np.sum(p)) / (n * np.sum(s ** 2) - np.sum(s) ** 2)\n",
    "b1\n",
    "\n"
   ]
  },
  {
   "cell_type": "markdown",
   "metadata": {},
   "source": [
    "Функция в Python для построение линейной регресии"
   ]
  },
  {
   "cell_type": "code",
   "execution_count": 4,
   "metadata": {},
   "outputs": [
    {
     "name": "stdout",
     "output_type": "stream",
     "text": [
      "0.17147009966777427\n",
      "[0.03874585]\n"
     ]
    }
   ],
   "source": [
    "import numpy as np\n",
    "from sklearn.linear_model import LinearRegression\n",
    "\n",
    "s = np.array([27,37, 42, 48, 57, 56, 77,80])\n",
    "p = np.array([1.2, 1.6, 1.8, 1.8, 2.5, 2.6, 3, 3.3])\n",
    "\n",
    "n = 8\n",
    "\n",
    "model = LinearRegression() # зададим модель линейной регресии\n",
    "s =s.reshape(-1,1) # делаем массив s двумерным атрибутом reshape(-1,1)\n",
    "\n",
    "regres = model.fit(s,p) # подпираем коэффициенты\n",
    "print(regres.intercept_) # выводим интерсепт\n",
    "\n",
    "print(regres.coef_) # выводим коэффициент\n",
    "\n"
   ]
  },
  {
   "cell_type": "markdown",
   "metadata": {},
   "source": [
    "Функция predict()"
   ]
  },
  {
   "cell_type": "code",
   "execution_count": 5,
   "metadata": {},
   "outputs": [
    {
     "data": {
      "text/plain": [
       "array([1.21760797, 1.60506645, 1.79879568, 2.03127076, 2.37998339,\n",
       "       2.34123754, 3.15490033, 3.27113787])"
      ]
     },
     "execution_count": 5,
     "metadata": {},
     "output_type": "execute_result"
    }
   ],
   "source": [
    "y_pred = model.predict(s) # подставим площадь в модель и посчитаем предиктовые значения цены квартиры\n",
    "\n",
    "y_pred"
   ]
  },
  {
   "cell_type": "code",
   "execution_count": 6,
   "metadata": {},
   "outputs": [
    {
     "data": {
      "text/html": [
       "<div>\n",
       "<style scoped>\n",
       "    .dataframe tbody tr th:only-of-type {\n",
       "        vertical-align: middle;\n",
       "    }\n",
       "\n",
       "    .dataframe tbody tr th {\n",
       "        vertical-align: top;\n",
       "    }\n",
       "\n",
       "    .dataframe thead th {\n",
       "        text-align: right;\n",
       "    }\n",
       "</style>\n",
       "<table border=\"1\" class=\"dataframe\">\n",
       "  <thead>\n",
       "    <tr style=\"text-align: right;\">\n",
       "      <th></th>\n",
       "      <th>реальные</th>\n",
       "      <th>предсказанные</th>\n",
       "    </tr>\n",
       "  </thead>\n",
       "  <tbody>\n",
       "    <tr>\n",
       "      <th>0</th>\n",
       "      <td>1.2</td>\n",
       "      <td>1.217608</td>\n",
       "    </tr>\n",
       "    <tr>\n",
       "      <th>1</th>\n",
       "      <td>1.6</td>\n",
       "      <td>1.605066</td>\n",
       "    </tr>\n",
       "    <tr>\n",
       "      <th>2</th>\n",
       "      <td>1.8</td>\n",
       "      <td>1.798796</td>\n",
       "    </tr>\n",
       "    <tr>\n",
       "      <th>3</th>\n",
       "      <td>1.8</td>\n",
       "      <td>2.031271</td>\n",
       "    </tr>\n",
       "    <tr>\n",
       "      <th>4</th>\n",
       "      <td>2.5</td>\n",
       "      <td>2.379983</td>\n",
       "    </tr>\n",
       "    <tr>\n",
       "      <th>5</th>\n",
       "      <td>2.6</td>\n",
       "      <td>2.341238</td>\n",
       "    </tr>\n",
       "    <tr>\n",
       "      <th>6</th>\n",
       "      <td>3.0</td>\n",
       "      <td>3.154900</td>\n",
       "    </tr>\n",
       "    <tr>\n",
       "      <th>7</th>\n",
       "      <td>3.3</td>\n",
       "      <td>3.271138</td>\n",
       "    </tr>\n",
       "  </tbody>\n",
       "</table>\n",
       "</div>"
      ],
      "text/plain": [
       "   реальные  предсказанные\n",
       "0       1.2       1.217608\n",
       "1       1.6       1.605066\n",
       "2       1.8       1.798796\n",
       "3       1.8       2.031271\n",
       "4       2.5       2.379983\n",
       "5       2.6       2.341238\n",
       "6       3.0       3.154900\n",
       "7       3.3       3.271138"
      ]
     },
     "execution_count": 6,
     "metadata": {},
     "output_type": "execute_result"
    }
   ],
   "source": [
    "import numpy as np\n",
    "import pandas as pd\n",
    "from scipy import stats\n",
    "import matplotlib.pyplot as plt\n",
    "import seaborn as sns\n",
    "\n",
    "df = pd.DataFrame({'реальные': p, 'предсказанные' : y_pred})\n",
    "df"
   ]
  },
  {
   "cell_type": "code",
   "execution_count": 7,
   "metadata": {},
   "outputs": [
    {
     "data": {
      "text/plain": [
       "<Axes: >"
      ]
     },
     "execution_count": 7,
     "metadata": {},
     "output_type": "execute_result"
    },
    {
     "data": {
      "image/png": "[encoded data removed]",
      "text/plain": [
       "<Figure size 640x480 with 1 Axes>"
      ]
     },
     "metadata": {},
     "output_type": "display_data"
    }
   ],
   "source": [
    "import seaborn as sns\n",
    "sns.scatterplot(x = p, y = y_pred)"
   ]
  },
  {
   "cell_type": "markdown",
   "metadata": {},
   "source": [
    "Коэффициент детерминации  R**2"
   ]
  },
  {
   "cell_type": "code",
   "execution_count": null,
   "metadata": {},
   "outputs": [],
   "source": [
    "r = np.corrcoef(s,p) [1,0]\n",
    "r"
   ]
  },
  {
   "cell_type": "code",
   "execution_count": 11,
   "metadata": {},
   "outputs": [
    {
     "data": {
      "text/plain": [
       "0.9576125937823151"
      ]
     },
     "execution_count": 11,
     "metadata": {},
     "output_type": "execute_result"
    }
   ],
   "source": [
    "regres.score(s,p)"
   ]
  },
  {
   "cell_type": "markdown",
   "metadata": {},
   "source": [
    "Оценка значимости математической модели. Критерия Фишера"
   ]
  },
  {
   "cell_type": "code",
   "execution_count": 13,
   "metadata": {},
   "outputs": [
    {
     "data": {
      "text/plain": [
       "3.614987541528238"
      ]
     },
     "execution_count": 13,
     "metadata": {},
     "output_type": "execute_result"
    }
   ],
   "source": [
    "SSf = sum((y_pred - np.mean(p)) ** 2) # сумма квадратных отклонений фактическая \n",
    "SSf"
   ]
  },
  {
   "cell_type": "code",
   "execution_count": 14,
   "metadata": {},
   "outputs": [
    {
     "data": {
      "text/plain": [
       "0.1600124584717606"
      ]
     },
     "execution_count": 14,
     "metadata": {},
     "output_type": "execute_result"
    }
   ],
   "source": [
    "SSo = np.sum((p - y_pred) ** 2) # сумма квадратных отклонений остаточная \n",
    "SSo"
   ]
  },
  {
   "cell_type": "code",
   "execution_count": 15,
   "metadata": {},
   "outputs": [
    {
     "data": {
      "text/plain": [
       "3.614987541528238"
      ]
     },
     "execution_count": 15,
     "metadata": {},
     "output_type": "execute_result"
    }
   ],
   "source": [
    "df1 = 2-1 # cтепень свободы числителя df1 = p - 1, где р - число параметров( у нас площадь и цена т е 2)\n",
    "df2 = 8-2 # степень свободы знаменателя df2 = n - p, где n- число парных изменений (у нас n =8)\n",
    "\n",
    "Msf = SSf / df1 # фактическая сумма квадратных откланений на одну степень свободы\n",
    "Msf"
   ]
  },
  {
   "cell_type": "code",
   "execution_count": 16,
   "metadata": {},
   "outputs": [
    {
     "data": {
      "text/plain": [
       "0.026668743078626767"
      ]
     },
     "execution_count": 16,
     "metadata": {},
     "output_type": "execute_result"
    }
   ],
   "source": [
    "Mso = SSo / df2 # Остаточная сумма квадратных отклонений на 1 степень свободы\n",
    "Mso"
   ]
  },
  {
   "cell_type": "code",
   "execution_count": 17,
   "metadata": {},
   "outputs": [
    {
     "data": {
      "text/plain": [
       "135.55147803067672"
      ]
     },
     "execution_count": 17,
     "metadata": {},
     "output_type": "execute_result"
    }
   ],
   "source": [
    "F = Msf / Mso # Критерий Фишира\n",
    "F"
   ]
  },
  {
   "cell_type": "markdown",
   "metadata": {},
   "source": [
    "Логистическая регрессия "
   ]
  },
  {
   "cell_type": "code",
   "execution_count": 22,
   "metadata": {},
   "outputs": [
    {
     "data": {
      "text/plain": [
       "0.6943887872417961"
      ]
     },
     "execution_count": 22,
     "metadata": {},
     "output_type": "execute_result"
    }
   ],
   "source": [
    "# Клиент 1\n",
    "x1 = 68 #зарабатная плата\n",
    "x2 = 27 #тратит на продукты\n",
    "x3 = 2 #к-во поездок за границу\n",
    "\n",
    "modl = -0.18839 + 0.01115 * x1 - 0.00279 * x2 + 0.16286 * x3 # модель линейной регресии\n",
    "modl\n",
    "sigmoid = 1 / (1 + 2.72 ** (-modl)) # трансформируем в Сигмойдную функцию где e^ число эйлера равно 2.72 \n",
    "sigmoid"
   ]
  },
  {
   "cell_type": "code",
   "execution_count": 23,
   "metadata": {},
   "outputs": [
    {
     "data": {
      "text/plain": [
       "0.7688144123096744"
      ]
     },
     "execution_count": 23,
     "metadata": {},
     "output_type": "execute_result"
    }
   ],
   "source": [
    "# Клиент 2\n",
    "x1 = 120 #зарабатная плата\n",
    "x2 = 40 #тратит на продукты\n",
    "x3 = 1 #к-во поездок за границу\n",
    "\n",
    "modl = -0.18839 + 0.01115 * x1 - 0.00279 * x2 + 0.16286 * x3 # модель линейной регресии\n",
    "modl\n",
    "sigmoid = 1 / (1 + 2.72 ** (-modl)) # трансформируем в Сигмойдную функцию где e^ число эйлера равно 2.72 \n",
    "sigmoid"
   ]
  },
  {
   "cell_type": "code",
   "execution_count": 25,
   "metadata": {},
   "outputs": [
    {
     "data": {
      "text/plain": [
       "0.8269419919314885"
      ]
     },
     "execution_count": 25,
     "metadata": {},
     "output_type": "execute_result"
    }
   ],
   "source": [
    "# Клиент 3\n",
    "x1 = 165 #зарабатная плата\n",
    "x2 = 90 #тратит на продукты\n",
    "x3 = 1 #к-во поездок за границу\n",
    "\n",
    "modl = -0.18839 + 0.01115 * x1 - 0.00279 * x2 + 0.16286 * x3 # модель линейной регресии\n",
    "modl\n",
    "sigmoid = 1 / (1 + 2.72 ** (-modl)) # трансформируем в Сигмойдную функцию где e^ число эйлера равно 2.72 \n",
    "sigmoid"
   ]
  },
  {
   "cell_type": "markdown",
   "metadata": {},
   "source": [
    "Постройте графики для приведенных наборов данных. Найдите коэффициенты для линии регрессии и коэффициенты детерминации. Что вы замечаете? Нанесите на график модель линейной регрессии.\n",
    "X1= np.array([30,30,40, 40])\n",
    "Y1= np.array([37, 47, 50, 60])\n",
    "x2= np.array([30,30,40, 40, 20, 20, 50, 50]) \n",
    "y2= np.array([37, 47, 50, 60, 25, 35, 62, 72])\n",
    "X3 = np.array([30,30,40, 40, 20, 20, 50, 50, 10, 10, 60, 60])\n",
    " Y3 = np.array([37, 47, 50, 60, 25, 35, 62, 72, 13, 23, 74, 84])"
   ]
  },
  {
   "cell_type": "code",
   "execution_count": 30,
   "metadata": {},
   "outputs": [
    {
     "name": "stdout",
     "output_type": "stream",
     "text": [
      "1.3 3.0\n"
     ]
    },
    {
     "data": {
      "image/png": "[encoded data removed]",
      "text/plain": [
       "<Figure size 640x480 with 1 Axes>"
      ]
     },
     "metadata": {},
     "output_type": "display_data"
    },
    {
     "data": {
      "text/plain": [
       "0.6282527881040891"
      ]
     },
     "execution_count": 30,
     "metadata": {},
     "output_type": "execute_result"
    }
   ],
   "source": [
    "#  y = b1 * x + b0, где х - влияющий параметр\n",
    "\n",
    "X1= np.array([30,30,40, 40])\n",
    "Y1= np.array([37, 47, 50, 60])\n",
    "b1 = (np.mean(X1 * Y1) - np.mean(Y1) * np.mean(X1)) / (np.mean(X1 ** 2) - np.mean(X1) ** 2) #находим коэфициенты для линии регресси\n",
    "b0 = np.mean(Y1) - b1 * np.mean(X1)\n",
    "print(b1, b0) # 1.3 * x + 3.0\n",
    "plt.scatter(X1,Y1)\n",
    "plt.plot(X1, b1 * X1 + b0)# линия регресии\n",
    "plt.show()\n",
    "R = np.corrcoef(X1, Y1) [0,1] ** 2 # находим коэф детерменации( это коеф корреляции в квадрате)\n",
    "R"
   ]
  },
  {
   "cell_type": "code",
   "execution_count": 31,
   "metadata": {},
   "outputs": [
    {
     "name": "stdout",
     "output_type": "stream",
     "text": [
      "1.2257142857142853 5.600000000000016\n"
     ]
    },
    {
     "data": {
      "image/png": "[encoded data removed]",
      "text/plain": [
       "<Figure size 640x480 with 1 Axes>"
      ]
     },
     "metadata": {},
     "output_type": "display_data"
    },
    {
     "data": {
      "text/plain": [
       "0.9459101071621311"
      ]
     },
     "execution_count": 31,
     "metadata": {},
     "output_type": "execute_result"
    }
   ],
   "source": [
    "X1 = np.array([30,30,40, 40, 20, 20, 50, 50, 10, 10, 60, 60])\n",
    "Y1 = np.array([37, 47, 50, 60, 25, 35, 62, 72, 13, 23, 74, 84])\n",
    "\n",
    "b1 = (np.mean(X1 * Y1) - np.mean(Y1) * np.mean(X1)) / (np.mean(X1 ** 2) - np.mean(X1) ** 2) #находим коэфициенты для линии регресси\n",
    "b0 = np.mean(Y1) - b1 * np.mean(X1)\n",
    "print(b1, b0) # 1.3 * x + 3.0\n",
    "plt.scatter(X1,Y1)\n",
    "plt.plot(X1, b1 * X1 + b0)# линия регресии\n",
    "plt.show()\n",
    "R = np.corrcoef(X1, Y1) [0,1] ** 2 #находим коэф детерменации( это коеф корреляции в квадрате)\n",
    "R"
   ]
  },
  {
   "cell_type": "code",
   "execution_count": 32,
   "metadata": {},
   "outputs": [
    {
     "name": "stdout",
     "output_type": "stream",
     "text": [
      "[[5.6       ]\n",
      " [1.22571429]]\n"
     ]
    }
   ],
   "source": [
    "# Расчитываем эту модель матричным методом\n",
    "X = X1.reshape((12,1))\n",
    "Y = Y1.reshape((12,1))\n",
    "X2 = np.hstack([np.ones((12,1)), X])\n",
    "B = np.dot(np.linalg.inv(np.dot(X2.T, X2)), X2.T @ Y)\n",
    "print(B)\n"
   ]
  },
  {
   "cell_type": "code",
   "execution_count": 34,
   "metadata": {},
   "outputs": [
    {
     "name": "stdout",
     "output_type": "stream",
     "text": [
      "1.0007966666666666 4.000018944233333\n",
      "1.262431915672081 4.0091014922863435\n",
      "1.2623614756487167 4.012156354163351\n",
      "1.262291105321776 4.015205348553223\n",
      "1.262220870120675 4.018248488231371\n",
      "1.2621507697859617 4.021285784440084\n",
      "1.2620808040586593 4.024317248400079\n",
      "1.2620109726802982 4.027342891310471\n",
      "1.2619412753928976 4.030362724348938\n",
      "1.261871711938976 4.033376758671623\n",
      "1.261802282061544 4.03638500541328\n",
      "1.2617329855041062 4.039387475687294\n",
      "1.2616638220106626 4.042384180585695\n",
      "1.2615947913257 4.045375131179238\n",
      "1.2615258931941997 4.048360338517388\n",
      "1.261457127361626 4.051339813628471\n",
      "1.2613884935739434 4.054313567519453\n",
      "1.2613199915775952 4.057281611176353\n",
      "1.2612516211195155 4.060243955564002\n",
      "1.2611833819471223 4.063200611626188\n"
     ]
    }
   ],
   "source": [
    "# Машинное обучение \n",
    "def mse(B1,B0, X1,Y1,n):\n",
    "    return np.sum((B0 + B1 * X1 - Y1)) ** 2 / n\n",
    "alpha = 1e-06 # скорость обучения\n",
    "B0 = 4\n",
    "B1 = 1\n",
    "n = 12\n",
    "for i in range (10 ** 5): # кол-во этераций \n",
    "    B1 -= alpha * (2/n) * np.sum((B0 + B1 * X1 - Y1) * X1)\n",
    "    B0 -= alpha * (2/n) * np.sum((B0 + B1 * X1 - Y1))\n",
    "    if i % 5000 == 0:\n",
    "        print(B1,B0)\n"
   ]
  }
 ],
 "metadata": {
  "kernelspec": {
   "display_name": "Python 3",
   "language": "python",
   "name": "python3"
  },
  "language_info": {
   "codemirror_mode": {
    "name": "ipython",
    "version": 3
   },
   "file_extension": ".py",
   "mimetype": "text/x-python",
   "name": "python",
   "nbconvert_exporter": "python",
   "pygments_lexer": "ipython3",
   "version": "3.11.4"
  }
 },
 "nbformat": 4,
 "nbformat_minor": 2
}
