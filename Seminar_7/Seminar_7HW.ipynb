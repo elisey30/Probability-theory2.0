{
 "cells": [
  {
   "cell_type": "markdown",
   "metadata": {},
   "source": [
    "### Задача № 1\n",
    "Выбрать тест и проверить, есть  ли различия между выборками:\n",
    "\n",
    "1 )  Даны две  независимые выборки. Не соблюдается условие нормальности\n",
    "x1  380,420, 290\n",
    "y1 140,360,200,900\n",
    "\n",
    "Сделайте вывод по результатам, полученным с помощью функции"
   ]
  },
  {
   "cell_type": "code",
   "execution_count": 1,
   "metadata": {},
   "outputs": [
    {
     "data": {
      "text/plain": [
       "MannwhitneyuResult(statistic=8.0, pvalue=0.6285714285714286)"
      ]
     },
     "execution_count": 1,
     "metadata": {},
     "output_type": "execute_result"
    }
   ],
   "source": [
    "# При сравнении двух независимых выборок применяем тест Манна-Уитни \n",
    "\n",
    "import numpy as np\n",
    "import scipy.stats as stats\n",
    "\n",
    "x1 = np.array([380, 420, 290])\n",
    "y1 = np.array([140, 360, 200, 900])\n",
    "\n",
    "stats.mannwhitneyu(x1, y1) # Тест Манна-Уитни\n"
   ]
  },
  {
   "cell_type": "markdown",
   "metadata": {},
   "source": [
    "Вывод: Статистических значимых различий не обнаруженно  уровне значимости\n",
    "\n",
    "а = 0.05\n",
    "\n",
    "а < pvalue, \n",
    "\n",
    "0.05 < 0.062, \n",
    "\n",
    "Принимаем нулевую гипотизу "
   ]
  },
  {
   "cell_type": "markdown",
   "metadata": {},
   "source": [
    "### Задача № 2\n",
    "Исследовалось влияние препарата на уровень давления пациентов. Сначала измерялось давление до приема препарата, потом через 10 минут и через 30 минут. Есть ли статистически значимые различия?\n",
    "\n",
    "1е измерение до приема препарата: 150, 160, 165, 145, 155\n",
    "\n",
    "2е измерение через 10 минут: 140, 155, 150,  130, 135\n",
    "\n",
    "3е измерение через 30 минут: 130, 130, 120, 130, 125"
   ]
  },
  {
   "cell_type": "code",
   "execution_count": 2,
   "metadata": {},
   "outputs": [
    {
     "data": {
      "text/plain": [
       "FriedmanchisquareResult(statistic=9.578947368421062, pvalue=0.00831683351100441)"
      ]
     },
     "execution_count": 2,
     "metadata": {},
     "output_type": "execute_result"
    }
   ],
   "source": [
    "# При множественных сравнений анализ повторных изменений применяем Критерий Фридмана\n",
    "import numpy as np\n",
    "import scipy.stats as stats\n",
    "\n",
    "before = np.array([150, 160, 165, 145, 155 ])\n",
    "after10min = np.array([140, 155, 150,  130, 135])\n",
    "after30min = np.array([130, 130, 120, 130, 125])\n",
    "\n",
    "stats.friedmanchisquare(before, after10min, after30min) # Тест Фридмана"
   ]
  },
  {
   "cell_type": "markdown",
   "metadata": {},
   "source": [
    "Вывод: Статистические значимые различия присутсвуют уровне значимости\n",
    "\n",
    "а = 0.05\n",
    "\n",
    "а > pvalue, \n",
    "\n",
    "0.05 > 0.008, \n",
    "\n",
    "Нулевую гипотизу отвергаем, препарат влияет на давление."
   ]
  },
  {
   "cell_type": "markdown",
   "metadata": {},
   "source": [
    "### Задача № 3\n",
    "Сравните 1 и 2 е измерения, предполагая, что 3го измерения через 30 минут не было."
   ]
  },
  {
   "cell_type": "code",
   "execution_count": 3,
   "metadata": {},
   "outputs": [
    {
     "data": {
      "text/plain": [
       "WilcoxonResult(statistic=0.0, pvalue=0.0625)"
      ]
     },
     "execution_count": 3,
     "metadata": {},
     "output_type": "execute_result"
    }
   ],
   "source": [
    "# При сравнении двух зависимых выборок, применяем критерий Уилкоксона \n",
    "import numpy as np\n",
    "import scipy.stats as stats\n",
    "\n",
    "before = np.array([150, 160, 165, 145, 155])\n",
    "after10min = np.array([140, 155, 150,  130, 135])\n",
    "\n",
    "stats.wilcoxon(before, after10min) # Тест Уилкоксона  \n"
   ]
  },
  {
   "cell_type": "markdown",
   "metadata": {},
   "source": [
    "Вывод: Статистических значимых различий не обнаруженно  уровне значимости\n",
    "\n",
    "а = 0.05\n",
    "\n",
    "а < pvalue, \n",
    "\n",
    "0.05 < 0.06, \n",
    "\n",
    "Принимаем нулевую гипотизу , препарат не влияет на давление."
   ]
  },
  {
   "cell_type": "markdown",
   "metadata": {},
   "source": [
    "### Задача № 4\n",
    "Даны 3 группы  учеников плавания.\n",
    "\n",
    "В 1 группе время на дистанцию 50 м составляют:\n",
    "56, 60, 62, 55, 71, 67, 59, 58, 64, 67\n",
    "\n",
    "Вторая группа : 57, 58, 69, 48, 72, 70, 68, 71, 50, 53\n",
    "\n",
    "Третья группа: 57, 67, 49, 48, 47, 55, 66, 51, 54"
   ]
  },
  {
   "cell_type": "code",
   "execution_count": 4,
   "metadata": {},
   "outputs": [
    {
     "data": {
      "text/plain": [
       "KruskalResult(statistic=5.465564058257224, pvalue=0.0650380998590494)"
      ]
     },
     "execution_count": 4,
     "metadata": {},
     "output_type": "execute_result"
    }
   ],
   "source": [
    "#При множественных сравнений независимых выборок, применяем Тест Крускала - Уоллиса\n",
    "\n",
    "import numpy as np\n",
    "import scipy.stats as stats\n",
    "\n",
    "gr1 = np.array([56, 60, 62, 55, 71, 67, 59, 58, 64, 67])\n",
    "gr2 = np.array([57, 58, 69, 48, 72, 70, 68, 71, 50, 53])\n",
    "gr3 = np.array([57, 67, 49, 48, 47, 55, 66, 51, 54])\n",
    "\n",
    "stats.kruskal(gr1, gr2, gr3) # Тест Крускала"
   ]
  },
  {
   "cell_type": "markdown",
   "metadata": {},
   "source": [
    "Вывод: Статистических значимых различий не обнаруженно  уровне значимости\n",
    "\n",
    "а = 0.05\n",
    "\n",
    "а < pvalue, \n",
    "\n",
    "0.05 < 0.06, \n",
    "\n",
    "Принимаем нулевую гипотизу , время на дистанцию одинаковое."
   ]
  },
  {
   "cell_type": "markdown",
   "metadata": {},
   "source": [
    "### Задача № 5\n",
    "Заявляется, что партия изготавливается со средним арифметическим 2,5 см. Проверить данную гипотезу, если известно, что размеры изделий подчинены нормальному закону распределения. Объем выборки 10, уровень статистической значимости 5%\n",
    "\n",
    "2.51, 2.35, 2.74, 2.56, 2.40, 2.36, 2.65, 2.7, 2.67, 2.34"
   ]
  },
  {
   "cell_type": "markdown",
   "metadata": {},
   "source": [
    "Формируем нулевую гипотезу: средний размер изделий равен 2.5 см\n",
    "\n",
    "$H_0$ :  $М = 2,5$\n",
    "\n",
    "Формируем альтернативную гипотезу: средний размер изделий не равен 2.5 см\n",
    "\n",
    "$H_1$ :  $М \\neq 2,5$\n",
    "\n",
    "Находим среднее арифметическое размеров изделий в выборке: \n",
    "\n",
    "$\\overline{x} = \\frac{\\sum\\limits_{i=1}^{n} x_i}{n}$\n",
    "\n",
    "Находим стандартное отклонение:\n",
    "\n",
    "$s = \\sqrt{\\frac{\\sum\\limits_{i=1}^{n} (x_i - \\overline{x})^2}{n-1}}$\n",
    "\n",
    "Вычисляем t-статистику:\n",
    "\n",
    "$t = \\frac{\\overline{x} - 2.5}{\\frac{s}{\\sqrt{n}}}$\n",
    "\n",
    "Определяем критическую область выборки для уровня статистической значимости 5%:\n",
    "\n",
    "Сравниваем t-статистику с t-критическим. Если t-статистика попадает в критическую область, то нулевая гипотеза отвергается.  \n",
    "\n",
    "    Делаем вывод:\n",
    "\n",
    "    Если t-статистика меньше t-критического, то гипотеза не отвергается.\n",
    "\n",
    "    Если t-статистика больше t-критического, то гипотеза отвергается."
   ]
  },
  {
   "cell_type": "code",
   "execution_count": 5,
   "metadata": {},
   "outputs": [
    {
     "name": "stdout",
     "output_type": "stream",
     "text": [
      ">>> Нулевая гипотеза не отвергается, партия изготавливается со средним арифметическим 2,5 см.\n"
     ]
    },
    {
     "data": {
      "text/plain": [
       "(2.5279999999999996,\n",
       " 0.1572542173961923,\n",
       " 0.5630613661802959,\n",
       " 1.8331129326536335)"
      ]
     },
     "execution_count": 5,
     "metadata": {},
     "output_type": "execute_result"
    }
   ],
   "source": [
    "import numpy as np\n",
    "import scipy.stats as stats\n",
    "\n",
    "alpha = 0.05\n",
    "data = [2.51, 2.35, 2.74, 2.56, 2.40, 2.36, 2.65, 2.7, 2.67, 2.34]\n",
    "n = len(data)\n",
    "mean = np.mean(data)\n",
    "std = np.std(data, ddof=1)\n",
    "t_stat = (mean - 2.5) / (std / np.sqrt(10))\n",
    "t_critical = stats.t.ppf(1 - alpha, n-1)\n",
    "if t_stat < t_critical:\n",
    "    print(\">>> Нулевая гипотеза не отвергается, партия изготавливается со средним арифметическим 2,5 см.\")\n",
    "else:\n",
    "    print(\">>> Нулевая гипотеза отвергается, партия изготавливается со средним арифметическим не равным 2,5 см.\")\n",
    "    \n",
    "mean, std, t_stat, t_critical"
   ]
  }
 ],
 "metadata": {
  "kernelspec": {
   "display_name": "Python 3",
   "language": "python",
   "name": "python3"
  },
  "language_info": {
   "codemirror_mode": {
    "name": "ipython",
    "version": 3
   },
   "file_extension": ".py",
   "mimetype": "text/x-python",
   "name": "python",
   "nbconvert_exporter": "python",
   "pygments_lexer": "ipython3",
   "version": "3.11.4"
  }
 },
 "nbformat": 4,
 "nbformat_minor": 2
}
